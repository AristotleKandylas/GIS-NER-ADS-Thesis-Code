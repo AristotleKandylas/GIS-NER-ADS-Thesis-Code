{
  "nbformat": 4,
  "nbformat_minor": 0,
  "metadata": {
    "colab": {
      "name": "NER_BI_LSTM_GIT.ipynb",
      "provenance": [],
      "collapsed_sections": []
    },
    "kernelspec": {
      "name": "python3",
      "display_name": "Python 3"
    },
    "language_info": {
      "name": "python"
    },
    "gpuClass": "standard"
  },
  "cells": [
    {
      "cell_type": "code",
      "execution_count": null,
      "metadata": {
        "id": "8jp7ACZx0Mrq"
      },
      "outputs": [],
      "source": [
        "import pandas as pd"
      ]
    },
    {
      "cell_type": "code",
      "source": [
        "#connect to personal google drive\n",
        "from google.colab import drive\n",
        "drive.mount('/content/drive')"
      ],
      "metadata": {
        "id": "dUi4LztSpuRx",
        "colab": {
          "base_uri": "https://localhost:8080/"
        },
        "outputId": "b14841d0-fa5b-4713-ee9e-e2ebe1ac84b5"
      },
      "execution_count": null,
      "outputs": [
        {
          "output_type": "stream",
          "name": "stdout",
          "text": [
            "Mounted at /content/drive\n"
          ]
        }
      ]
    },
    {
      "cell_type": "markdown",
      "source": [
        "### Data exploration "
      ],
      "metadata": {
        "id": "mZ365QUEvmsF"
      }
    },
    {
      "cell_type": "code",
      "source": [
        "data = pd.read_csv(\"/content/drive/MyDrive/UTRECHT UNIVERISTY/THESIS/DATA/HAIQI_DATA/df_iob_tags_final44.csv\", encoding=\"latin1\")\n",
        "data.head(10)"
      ],
      "metadata": {
        "colab": {
          "base_uri": "https://localhost:8080/",
          "height": 363
        },
        "id": "RocxzR0X2YfW",
        "outputId": "3e27747d-54f0-478e-aa78-88355accf85e"
      },
      "execution_count": null,
      "outputs": [
        {
          "output_type": "execute_result",
          "data": {
            "text/plain": [
              "   ID                                           question         token   pos  \\\n",
              "0   0  What is percentage of households within 2000 m...          What  PRON   \n",
              "1   0  What is percentage of households within 2000 m...            is   AUX   \n",
              "2   0  What is percentage of households within 2000 m...    percentage  NOUN   \n",
              "3   0  What is percentage of households within 2000 m...            of   ADP   \n",
              "4   0  What is percentage of households within 2000 m...    households  NOUN   \n",
              "5   0  What is percentage of households within 2000 m...        within   ADP   \n",
              "6   0  What is percentage of households within 2000 m...          2000   NUM   \n",
              "7   0  What is percentage of households within 2000 m...        metres  NOUN   \n",
              "8   0  What is percentage of households within 2000 m...          from   ADP   \n",
              "9   0  What is percentage of households within 2000 m...  supermarkets  NOUN   \n",
              "\n",
              "        tag  \n",
              "0         O  \n",
              "1         O  \n",
              "2  B-PROPIR  \n",
              "3         O  \n",
              "4     B-OBJ  \n",
              "5         O  \n",
              "6         O  \n",
              "7         O  \n",
              "8         O  \n",
              "9     B-OBJ  "
            ],
            "text/html": [
              "\n",
              "  <div id=\"df-a050eb05-b097-43df-9d61-1f086974a326\">\n",
              "    <div class=\"colab-df-container\">\n",
              "      <div>\n",
              "<style scoped>\n",
              "    .dataframe tbody tr th:only-of-type {\n",
              "        vertical-align: middle;\n",
              "    }\n",
              "\n",
              "    .dataframe tbody tr th {\n",
              "        vertical-align: top;\n",
              "    }\n",
              "\n",
              "    .dataframe thead th {\n",
              "        text-align: right;\n",
              "    }\n",
              "</style>\n",
              "<table border=\"1\" class=\"dataframe\">\n",
              "  <thead>\n",
              "    <tr style=\"text-align: right;\">\n",
              "      <th></th>\n",
              "      <th>ID</th>\n",
              "      <th>question</th>\n",
              "      <th>token</th>\n",
              "      <th>pos</th>\n",
              "      <th>tag</th>\n",
              "    </tr>\n",
              "  </thead>\n",
              "  <tbody>\n",
              "    <tr>\n",
              "      <th>0</th>\n",
              "      <td>0</td>\n",
              "      <td>What is percentage of households within 2000 m...</td>\n",
              "      <td>What</td>\n",
              "      <td>PRON</td>\n",
              "      <td>O</td>\n",
              "    </tr>\n",
              "    <tr>\n",
              "      <th>1</th>\n",
              "      <td>0</td>\n",
              "      <td>What is percentage of households within 2000 m...</td>\n",
              "      <td>is</td>\n",
              "      <td>AUX</td>\n",
              "      <td>O</td>\n",
              "    </tr>\n",
              "    <tr>\n",
              "      <th>2</th>\n",
              "      <td>0</td>\n",
              "      <td>What is percentage of households within 2000 m...</td>\n",
              "      <td>percentage</td>\n",
              "      <td>NOUN</td>\n",
              "      <td>B-PROPIR</td>\n",
              "    </tr>\n",
              "    <tr>\n",
              "      <th>3</th>\n",
              "      <td>0</td>\n",
              "      <td>What is percentage of households within 2000 m...</td>\n",
              "      <td>of</td>\n",
              "      <td>ADP</td>\n",
              "      <td>O</td>\n",
              "    </tr>\n",
              "    <tr>\n",
              "      <th>4</th>\n",
              "      <td>0</td>\n",
              "      <td>What is percentage of households within 2000 m...</td>\n",
              "      <td>households</td>\n",
              "      <td>NOUN</td>\n",
              "      <td>B-OBJ</td>\n",
              "    </tr>\n",
              "    <tr>\n",
              "      <th>5</th>\n",
              "      <td>0</td>\n",
              "      <td>What is percentage of households within 2000 m...</td>\n",
              "      <td>within</td>\n",
              "      <td>ADP</td>\n",
              "      <td>O</td>\n",
              "    </tr>\n",
              "    <tr>\n",
              "      <th>6</th>\n",
              "      <td>0</td>\n",
              "      <td>What is percentage of households within 2000 m...</td>\n",
              "      <td>2000</td>\n",
              "      <td>NUM</td>\n",
              "      <td>O</td>\n",
              "    </tr>\n",
              "    <tr>\n",
              "      <th>7</th>\n",
              "      <td>0</td>\n",
              "      <td>What is percentage of households within 2000 m...</td>\n",
              "      <td>metres</td>\n",
              "      <td>NOUN</td>\n",
              "      <td>O</td>\n",
              "    </tr>\n",
              "    <tr>\n",
              "      <th>8</th>\n",
              "      <td>0</td>\n",
              "      <td>What is percentage of households within 2000 m...</td>\n",
              "      <td>from</td>\n",
              "      <td>ADP</td>\n",
              "      <td>O</td>\n",
              "    </tr>\n",
              "    <tr>\n",
              "      <th>9</th>\n",
              "      <td>0</td>\n",
              "      <td>What is percentage of households within 2000 m...</td>\n",
              "      <td>supermarkets</td>\n",
              "      <td>NOUN</td>\n",
              "      <td>B-OBJ</td>\n",
              "    </tr>\n",
              "  </tbody>\n",
              "</table>\n",
              "</div>\n",
              "      <button class=\"colab-df-convert\" onclick=\"convertToInteractive('df-a050eb05-b097-43df-9d61-1f086974a326')\"\n",
              "              title=\"Convert this dataframe to an interactive table.\"\n",
              "              style=\"display:none;\">\n",
              "        \n",
              "  <svg xmlns=\"http://www.w3.org/2000/svg\" height=\"24px\"viewBox=\"0 0 24 24\"\n",
              "       width=\"24px\">\n",
              "    <path d=\"M0 0h24v24H0V0z\" fill=\"none\"/>\n",
              "    <path d=\"M18.56 5.44l.94 2.06.94-2.06 2.06-.94-2.06-.94-.94-2.06-.94 2.06-2.06.94zm-11 1L8.5 8.5l.94-2.06 2.06-.94-2.06-.94L8.5 2.5l-.94 2.06-2.06.94zm10 10l.94 2.06.94-2.06 2.06-.94-2.06-.94-.94-2.06-.94 2.06-2.06.94z\"/><path d=\"M17.41 7.96l-1.37-1.37c-.4-.4-.92-.59-1.43-.59-.52 0-1.04.2-1.43.59L10.3 9.45l-7.72 7.72c-.78.78-.78 2.05 0 2.83L4 21.41c.39.39.9.59 1.41.59.51 0 1.02-.2 1.41-.59l7.78-7.78 2.81-2.81c.8-.78.8-2.07 0-2.86zM5.41 20L4 18.59l7.72-7.72 1.47 1.35L5.41 20z\"/>\n",
              "  </svg>\n",
              "      </button>\n",
              "      \n",
              "  <style>\n",
              "    .colab-df-container {\n",
              "      display:flex;\n",
              "      flex-wrap:wrap;\n",
              "      gap: 12px;\n",
              "    }\n",
              "\n",
              "    .colab-df-convert {\n",
              "      background-color: #E8F0FE;\n",
              "      border: none;\n",
              "      border-radius: 50%;\n",
              "      cursor: pointer;\n",
              "      display: none;\n",
              "      fill: #1967D2;\n",
              "      height: 32px;\n",
              "      padding: 0 0 0 0;\n",
              "      width: 32px;\n",
              "    }\n",
              "\n",
              "    .colab-df-convert:hover {\n",
              "      background-color: #E2EBFA;\n",
              "      box-shadow: 0px 1px 2px rgba(60, 64, 67, 0.3), 0px 1px 3px 1px rgba(60, 64, 67, 0.15);\n",
              "      fill: #174EA6;\n",
              "    }\n",
              "\n",
              "    [theme=dark] .colab-df-convert {\n",
              "      background-color: #3B4455;\n",
              "      fill: #D2E3FC;\n",
              "    }\n",
              "\n",
              "    [theme=dark] .colab-df-convert:hover {\n",
              "      background-color: #434B5C;\n",
              "      box-shadow: 0px 1px 3px 1px rgba(0, 0, 0, 0.15);\n",
              "      filter: drop-shadow(0px 1px 2px rgba(0, 0, 0, 0.3));\n",
              "      fill: #FFFFFF;\n",
              "    }\n",
              "  </style>\n",
              "\n",
              "      <script>\n",
              "        const buttonEl =\n",
              "          document.querySelector('#df-a050eb05-b097-43df-9d61-1f086974a326 button.colab-df-convert');\n",
              "        buttonEl.style.display =\n",
              "          google.colab.kernel.accessAllowed ? 'block' : 'none';\n",
              "\n",
              "        async function convertToInteractive(key) {\n",
              "          const element = document.querySelector('#df-a050eb05-b097-43df-9d61-1f086974a326');\n",
              "          const dataTable =\n",
              "            await google.colab.kernel.invokeFunction('convertToInteractive',\n",
              "                                                     [key], {});\n",
              "          if (!dataTable) return;\n",
              "\n",
              "          const docLinkHtml = 'Like what you see? Visit the ' +\n",
              "            '<a target=\"_blank\" href=https://colab.research.google.com/notebooks/data_table.ipynb>data table notebook</a>'\n",
              "            + ' to learn more about interactive tables.';\n",
              "          element.innerHTML = '';\n",
              "          dataTable['output_type'] = 'display_data';\n",
              "          await google.colab.output.renderOutput(dataTable, element);\n",
              "          const docLink = document.createElement('div');\n",
              "          docLink.innerHTML = docLinkHtml;\n",
              "          element.appendChild(docLink);\n",
              "        }\n",
              "      </script>\n",
              "    </div>\n",
              "  </div>\n",
              "  "
            ]
          },
          "metadata": {},
          "execution_count": 3
        }
      ]
    },
    {
      "cell_type": "code",
      "source": [
        "data.shape"
      ],
      "metadata": {
        "colab": {
          "base_uri": "https://localhost:8080/"
        },
        "id": "ZdA_kLix2pK-",
        "outputId": "e1d7b454-7090-4743-fcc0-3856aaa1a945"
      },
      "execution_count": null,
      "outputs": [
        {
          "output_type": "execute_result",
          "data": {
            "text/plain": [
              "(4096, 5)"
            ]
          },
          "metadata": {},
          "execution_count": 4
        }
      ]
    },
    {
      "cell_type": "code",
      "source": [
        "data.rename(columns={'token': 'word', 'IOB Tags': 'tag'}, inplace=True)"
      ],
      "metadata": {
        "id": "pvCbB9wD28xH"
      },
      "execution_count": null,
      "outputs": []
    },
    {
      "cell_type": "code",
      "source": [
        "data"
      ],
      "metadata": {
        "colab": {
          "base_uri": "https://localhost:8080/",
          "height": 424
        },
        "id": "zJr3h07x2-5d",
        "outputId": "1cf74ace-254b-4803-c316-e86425869b24"
      },
      "execution_count": null,
      "outputs": [
        {
          "output_type": "execute_result",
          "data": {
            "text/plain": [
              "       ID                                           question        word  \\\n",
              "0       0  What is percentage of households within 2000 m...        What   \n",
              "1       0  What is percentage of households within 2000 m...          is   \n",
              "2       0  What is percentage of households within 2000 m...  percentage   \n",
              "3       0  What is percentage of households within 2000 m...          of   \n",
              "4       0  What is percentage of households within 2000 m...  households   \n",
              "...   ...                                                ...         ...   \n",
              "4091  317  What is density of greens for each PC4 area in...         PC4   \n",
              "4092  317  What is density of greens for each PC4 area in...        area   \n",
              "4093  317  What is density of greens for each PC4 area in...          in   \n",
              "4094  317  What is density of greens for each PC4 area in...  PlaceName0   \n",
              "4095  317  What is density of greens for each PC4 area in...          \\n   \n",
              "\n",
              "        pos       tag  \n",
              "0      PRON         O  \n",
              "1       AUX         O  \n",
              "2      NOUN  B-PROPIR  \n",
              "3       ADP         O  \n",
              "4      NOUN     B-OBJ  \n",
              "...     ...       ...  \n",
              "4091  PROPN     B-OBJ  \n",
              "4092   NOUN     I-OBJ  \n",
              "4093    ADP         O  \n",
              "4094  PROPN         O  \n",
              "4095  SPACE         O  \n",
              "\n",
              "[4096 rows x 5 columns]"
            ],
            "text/html": [
              "\n",
              "  <div id=\"df-285a276c-cfde-4205-8280-4fcf444f3c0f\">\n",
              "    <div class=\"colab-df-container\">\n",
              "      <div>\n",
              "<style scoped>\n",
              "    .dataframe tbody tr th:only-of-type {\n",
              "        vertical-align: middle;\n",
              "    }\n",
              "\n",
              "    .dataframe tbody tr th {\n",
              "        vertical-align: top;\n",
              "    }\n",
              "\n",
              "    .dataframe thead th {\n",
              "        text-align: right;\n",
              "    }\n",
              "</style>\n",
              "<table border=\"1\" class=\"dataframe\">\n",
              "  <thead>\n",
              "    <tr style=\"text-align: right;\">\n",
              "      <th></th>\n",
              "      <th>ID</th>\n",
              "      <th>question</th>\n",
              "      <th>word</th>\n",
              "      <th>pos</th>\n",
              "      <th>tag</th>\n",
              "    </tr>\n",
              "  </thead>\n",
              "  <tbody>\n",
              "    <tr>\n",
              "      <th>0</th>\n",
              "      <td>0</td>\n",
              "      <td>What is percentage of households within 2000 m...</td>\n",
              "      <td>What</td>\n",
              "      <td>PRON</td>\n",
              "      <td>O</td>\n",
              "    </tr>\n",
              "    <tr>\n",
              "      <th>1</th>\n",
              "      <td>0</td>\n",
              "      <td>What is percentage of households within 2000 m...</td>\n",
              "      <td>is</td>\n",
              "      <td>AUX</td>\n",
              "      <td>O</td>\n",
              "    </tr>\n",
              "    <tr>\n",
              "      <th>2</th>\n",
              "      <td>0</td>\n",
              "      <td>What is percentage of households within 2000 m...</td>\n",
              "      <td>percentage</td>\n",
              "      <td>NOUN</td>\n",
              "      <td>B-PROPIR</td>\n",
              "    </tr>\n",
              "    <tr>\n",
              "      <th>3</th>\n",
              "      <td>0</td>\n",
              "      <td>What is percentage of households within 2000 m...</td>\n",
              "      <td>of</td>\n",
              "      <td>ADP</td>\n",
              "      <td>O</td>\n",
              "    </tr>\n",
              "    <tr>\n",
              "      <th>4</th>\n",
              "      <td>0</td>\n",
              "      <td>What is percentage of households within 2000 m...</td>\n",
              "      <td>households</td>\n",
              "      <td>NOUN</td>\n",
              "      <td>B-OBJ</td>\n",
              "    </tr>\n",
              "    <tr>\n",
              "      <th>...</th>\n",
              "      <td>...</td>\n",
              "      <td>...</td>\n",
              "      <td>...</td>\n",
              "      <td>...</td>\n",
              "      <td>...</td>\n",
              "    </tr>\n",
              "    <tr>\n",
              "      <th>4091</th>\n",
              "      <td>317</td>\n",
              "      <td>What is density of greens for each PC4 area in...</td>\n",
              "      <td>PC4</td>\n",
              "      <td>PROPN</td>\n",
              "      <td>B-OBJ</td>\n",
              "    </tr>\n",
              "    <tr>\n",
              "      <th>4092</th>\n",
              "      <td>317</td>\n",
              "      <td>What is density of greens for each PC4 area in...</td>\n",
              "      <td>area</td>\n",
              "      <td>NOUN</td>\n",
              "      <td>I-OBJ</td>\n",
              "    </tr>\n",
              "    <tr>\n",
              "      <th>4093</th>\n",
              "      <td>317</td>\n",
              "      <td>What is density of greens for each PC4 area in...</td>\n",
              "      <td>in</td>\n",
              "      <td>ADP</td>\n",
              "      <td>O</td>\n",
              "    </tr>\n",
              "    <tr>\n",
              "      <th>4094</th>\n",
              "      <td>317</td>\n",
              "      <td>What is density of greens for each PC4 area in...</td>\n",
              "      <td>PlaceName0</td>\n",
              "      <td>PROPN</td>\n",
              "      <td>O</td>\n",
              "    </tr>\n",
              "    <tr>\n",
              "      <th>4095</th>\n",
              "      <td>317</td>\n",
              "      <td>What is density of greens for each PC4 area in...</td>\n",
              "      <td>\\n</td>\n",
              "      <td>SPACE</td>\n",
              "      <td>O</td>\n",
              "    </tr>\n",
              "  </tbody>\n",
              "</table>\n",
              "<p>4096 rows × 5 columns</p>\n",
              "</div>\n",
              "      <button class=\"colab-df-convert\" onclick=\"convertToInteractive('df-285a276c-cfde-4205-8280-4fcf444f3c0f')\"\n",
              "              title=\"Convert this dataframe to an interactive table.\"\n",
              "              style=\"display:none;\">\n",
              "        \n",
              "  <svg xmlns=\"http://www.w3.org/2000/svg\" height=\"24px\"viewBox=\"0 0 24 24\"\n",
              "       width=\"24px\">\n",
              "    <path d=\"M0 0h24v24H0V0z\" fill=\"none\"/>\n",
              "    <path d=\"M18.56 5.44l.94 2.06.94-2.06 2.06-.94-2.06-.94-.94-2.06-.94 2.06-2.06.94zm-11 1L8.5 8.5l.94-2.06 2.06-.94-2.06-.94L8.5 2.5l-.94 2.06-2.06.94zm10 10l.94 2.06.94-2.06 2.06-.94-2.06-.94-.94-2.06-.94 2.06-2.06.94z\"/><path d=\"M17.41 7.96l-1.37-1.37c-.4-.4-.92-.59-1.43-.59-.52 0-1.04.2-1.43.59L10.3 9.45l-7.72 7.72c-.78.78-.78 2.05 0 2.83L4 21.41c.39.39.9.59 1.41.59.51 0 1.02-.2 1.41-.59l7.78-7.78 2.81-2.81c.8-.78.8-2.07 0-2.86zM5.41 20L4 18.59l7.72-7.72 1.47 1.35L5.41 20z\"/>\n",
              "  </svg>\n",
              "      </button>\n",
              "      \n",
              "  <style>\n",
              "    .colab-df-container {\n",
              "      display:flex;\n",
              "      flex-wrap:wrap;\n",
              "      gap: 12px;\n",
              "    }\n",
              "\n",
              "    .colab-df-convert {\n",
              "      background-color: #E8F0FE;\n",
              "      border: none;\n",
              "      border-radius: 50%;\n",
              "      cursor: pointer;\n",
              "      display: none;\n",
              "      fill: #1967D2;\n",
              "      height: 32px;\n",
              "      padding: 0 0 0 0;\n",
              "      width: 32px;\n",
              "    }\n",
              "\n",
              "    .colab-df-convert:hover {\n",
              "      background-color: #E2EBFA;\n",
              "      box-shadow: 0px 1px 2px rgba(60, 64, 67, 0.3), 0px 1px 3px 1px rgba(60, 64, 67, 0.15);\n",
              "      fill: #174EA6;\n",
              "    }\n",
              "\n",
              "    [theme=dark] .colab-df-convert {\n",
              "      background-color: #3B4455;\n",
              "      fill: #D2E3FC;\n",
              "    }\n",
              "\n",
              "    [theme=dark] .colab-df-convert:hover {\n",
              "      background-color: #434B5C;\n",
              "      box-shadow: 0px 1px 3px 1px rgba(0, 0, 0, 0.15);\n",
              "      filter: drop-shadow(0px 1px 2px rgba(0, 0, 0, 0.3));\n",
              "      fill: #FFFFFF;\n",
              "    }\n",
              "  </style>\n",
              "\n",
              "      <script>\n",
              "        const buttonEl =\n",
              "          document.querySelector('#df-285a276c-cfde-4205-8280-4fcf444f3c0f button.colab-df-convert');\n",
              "        buttonEl.style.display =\n",
              "          google.colab.kernel.accessAllowed ? 'block' : 'none';\n",
              "\n",
              "        async function convertToInteractive(key) {\n",
              "          const element = document.querySelector('#df-285a276c-cfde-4205-8280-4fcf444f3c0f');\n",
              "          const dataTable =\n",
              "            await google.colab.kernel.invokeFunction('convertToInteractive',\n",
              "                                                     [key], {});\n",
              "          if (!dataTable) return;\n",
              "\n",
              "          const docLinkHtml = 'Like what you see? Visit the ' +\n",
              "            '<a target=\"_blank\" href=https://colab.research.google.com/notebooks/data_table.ipynb>data table notebook</a>'\n",
              "            + ' to learn more about interactive tables.';\n",
              "          element.innerHTML = '';\n",
              "          dataTable['output_type'] = 'display_data';\n",
              "          await google.colab.output.renderOutput(dataTable, element);\n",
              "          const docLink = document.createElement('div');\n",
              "          docLink.innerHTML = docLinkHtml;\n",
              "          element.appendChild(docLink);\n",
              "        }\n",
              "      </script>\n",
              "    </div>\n",
              "  </div>\n",
              "  "
            ]
          },
          "metadata": {},
          "execution_count": 6
        }
      ]
    },
    {
      "cell_type": "code",
      "source": [
        "word_counts = data.groupby(\"question\")[\"word\"].agg([\"count\"])\n",
        "word_counts = word_counts.rename(columns={\"count\": \"Word count\"})\n",
        "word_counts.hist(bins=50, figsize=(8,6));"
      ],
      "metadata": {
        "colab": {
          "base_uri": "https://localhost:8080/",
          "height": 390
        },
        "id": "9CJIpg_iMFYb",
        "outputId": "dabd7993-4b60-41d5-b96a-66147777365d"
      },
      "execution_count": null,
      "outputs": [
        {
          "output_type": "display_data",
          "data": {
            "text/plain": [
              "<Figure size 576x432 with 1 Axes>"
            ],
            "image/png": "[encoded data removed]"
          },
          "metadata": {
            "needs_background": "light"
          }
        }
      ]
    },
    {
      "cell_type": "code",
      "source": [
        "data[data[\"tag\"]!=\"O\"][\"tag\"].value_counts().plot(kind=\"bar\", color='blue', figsize=(10,5))"
      ],
      "metadata": {
        "colab": {
          "base_uri": "https://localhost:8080/",
          "height": 375
        },
        "id": "rgvzs9wZIThn",
        "outputId": "93e9df19-bcbd-4e40-f9c8-f17b4b29be78"
      },
      "execution_count": null,
      "outputs": [
        {
          "output_type": "execute_result",
          "data": {
            "text/plain": [
              "<matplotlib.axes._subplots.AxesSubplot at 0x7f46159cfd10>"
            ]
          },
          "metadata": {},
          "execution_count": 11
        },
        {
          "output_type": "display_data",
          "data": {
            "text/plain": [
              "<Figure size 720x360 with 1 Axes>"
            ],
            "image/png": "[encoded data removed]"
          },
          "metadata": {
            "needs_background": "light"
          }
        }
      ]
    },
    {
      "cell_type": "code",
      "source": [
        "MAX_SENTENCE = word_counts.max()[0]\n",
        "print(\"Longest sentence in the corpus contains {} words.\".format(MAX_SENTENCE))"
      ],
      "metadata": {
        "id": "c99qm0pDL9Uj",
        "colab": {
          "base_uri": "https://localhost:8080/"
        },
        "outputId": "e4f219ef-c6b3-43c7-f678-2e3bf085aed3"
      },
      "execution_count": null,
      "outputs": [
        {
          "output_type": "stream",
          "name": "stdout",
          "text": [
            "Longest sentence in the corpus contains 30 words.\n"
          ]
        }
      ]
    },
    {
      "cell_type": "code",
      "source": [
        "longest_sentence_id = word_counts[word_counts[\"Word count\"]==MAX_SENTENCE].index[0]\n",
        "print(\"ID of the longest sentence is: {}.\".format(longest_sentence_id))"
      ],
      "metadata": {
        "colab": {
          "base_uri": "https://localhost:8080/"
        },
        "id": "50nwvQpJNAr5",
        "outputId": "66cfeb73-f880-4cb7-c00a-16ee68d8fbcc"
      },
      "execution_count": null,
      "outputs": [
        {
          "output_type": "stream",
          "name": "stdout",
          "text": [
            "ID of the longest sentence is: What areas are within 10 minutes , 30 minutes , and 60 minutes of driving time from private hospitals in PlaceName0 in PlaceName1\n",
            ".\n"
          ]
        }
      ]
    },
    {
      "cell_type": "markdown",
      "source": [
        " ### Extract mappings necessary for the neural network"
      ],
      "metadata": {
        "id": "CLAFI19grOIZ"
      }
    },
    {
      "cell_type": "code",
      "source": [
        "from itertools import chain\n",
        "def get_dict_map(data, token_or_tag):\n",
        "    tok2idx = {}\n",
        "    idx2tok = {}\n",
        "    \n",
        "    if token_or_tag == 'token':\n",
        "        vocab = list(set(data['word'].to_list()))\n",
        "    else:\n",
        "        vocab = list(set(data['tag'].to_list()))\n",
        "    \n",
        "    idx2tok = {idx:tok for  idx, tok in enumerate(vocab)}\n",
        "    tok2idx = {tok:idx for  idx, tok in enumerate(vocab)}\n",
        "    return tok2idx, idx2tok\n",
        "\n",
        "\n",
        "token2idx, idx2token = get_dict_map(data, 'token')\n",
        "tag2idx, idx2tag = get_dict_map(data, 'tag')"
      ],
      "metadata": {
        "id": "xyAO94TD3Bqt"
      },
      "execution_count": null,
      "outputs": []
    },
    {
      "cell_type": "code",
      "source": [
        "data['word_idx'] = data['word'].map(token2idx)\n",
        "data['tag_idx'] = data['tag'].map(tag2idx) "
      ],
      "metadata": {
        "id": "nyuKIcZV3KDt"
      },
      "execution_count": null,
      "outputs": []
    },
    {
      "cell_type": "code",
      "source": [
        "data.head()"
      ],
      "metadata": {
        "colab": {
          "base_uri": "https://localhost:8080/",
          "height": 206
        },
        "id": "W122HsFZ3Qxl",
        "outputId": "75f6c35d-ec95-4584-a57c-3f29df152d5a"
      },
      "execution_count": null,
      "outputs": [
        {
          "output_type": "execute_result",
          "data": {
            "text/plain": [
              "   ID                                           question        word   pos  \\\n",
              "0   0  What is percentage of households within 2000 m...        What  PRON   \n",
              "1   0  What is percentage of households within 2000 m...          is   AUX   \n",
              "2   0  What is percentage of households within 2000 m...  percentage  NOUN   \n",
              "3   0  What is percentage of households within 2000 m...          of   ADP   \n",
              "4   0  What is percentage of households within 2000 m...  households  NOUN   \n",
              "\n",
              "        tag  word_idx  tag_idx  \n",
              "0         O       326        3  \n",
              "1         O       204        3  \n",
              "2  B-PROPIR       408       24  \n",
              "3         O       442        3  \n",
              "4     B-OBJ       139       14  "
            ],
            "text/html": [
              "\n",
              "  <div id=\"df-008b8522-08fa-49a9-89ca-07e6e84dce41\">\n",
              "    <div class=\"colab-df-container\">\n",
              "      <div>\n",
              "<style scoped>\n",
              "    .dataframe tbody tr th:only-of-type {\n",
              "        vertical-align: middle;\n",
              "    }\n",
              "\n",
              "    .dataframe tbody tr th {\n",
              "        vertical-align: top;\n",
              "    }\n",
              "\n",
              "    .dataframe thead th {\n",
              "        text-align: right;\n",
              "    }\n",
              "</style>\n",
              "<table border=\"1\" class=\"dataframe\">\n",
              "  <thead>\n",
              "    <tr style=\"text-align: right;\">\n",
              "      <th></th>\n",
              "      <th>ID</th>\n",
              "      <th>question</th>\n",
              "      <th>word</th>\n",
              "      <th>pos</th>\n",
              "      <th>tag</th>\n",
              "      <th>word_idx</th>\n",
              "      <th>tag_idx</th>\n",
              "    </tr>\n",
              "  </thead>\n",
              "  <tbody>\n",
              "    <tr>\n",
              "      <th>0</th>\n",
              "      <td>0</td>\n",
              "      <td>What is percentage of households within 2000 m...</td>\n",
              "      <td>What</td>\n",
              "      <td>PRON</td>\n",
              "      <td>O</td>\n",
              "      <td>326</td>\n",
              "      <td>3</td>\n",
              "    </tr>\n",
              "    <tr>\n",
              "      <th>1</th>\n",
              "      <td>0</td>\n",
              "      <td>What is percentage of households within 2000 m...</td>\n",
              "      <td>is</td>\n",
              "      <td>AUX</td>\n",
              "      <td>O</td>\n",
              "      <td>204</td>\n",
              "      <td>3</td>\n",
              "    </tr>\n",
              "    <tr>\n",
              "      <th>2</th>\n",
              "      <td>0</td>\n",
              "      <td>What is percentage of households within 2000 m...</td>\n",
              "      <td>percentage</td>\n",
              "      <td>NOUN</td>\n",
              "      <td>B-PROPIR</td>\n",
              "      <td>408</td>\n",
              "      <td>24</td>\n",
              "    </tr>\n",
              "    <tr>\n",
              "      <th>3</th>\n",
              "      <td>0</td>\n",
              "      <td>What is percentage of households within 2000 m...</td>\n",
              "      <td>of</td>\n",
              "      <td>ADP</td>\n",
              "      <td>O</td>\n",
              "      <td>442</td>\n",
              "      <td>3</td>\n",
              "    </tr>\n",
              "    <tr>\n",
              "      <th>4</th>\n",
              "      <td>0</td>\n",
              "      <td>What is percentage of households within 2000 m...</td>\n",
              "      <td>households</td>\n",
              "      <td>NOUN</td>\n",
              "      <td>B-OBJ</td>\n",
              "      <td>139</td>\n",
              "      <td>14</td>\n",
              "    </tr>\n",
              "  </tbody>\n",
              "</table>\n",
              "</div>\n",
              "      <button class=\"colab-df-convert\" onclick=\"convertToInteractive('df-008b8522-08fa-49a9-89ca-07e6e84dce41')\"\n",
              "              title=\"Convert this dataframe to an interactive table.\"\n",
              "              style=\"display:none;\">\n",
              "        \n",
              "  <svg xmlns=\"http://www.w3.org/2000/svg\" height=\"24px\"viewBox=\"0 0 24 24\"\n",
              "       width=\"24px\">\n",
              "    <path d=\"M0 0h24v24H0V0z\" fill=\"none\"/>\n",
              "    <path d=\"M18.56 5.44l.94 2.06.94-2.06 2.06-.94-2.06-.94-.94-2.06-.94 2.06-2.06.94zm-11 1L8.5 8.5l.94-2.06 2.06-.94-2.06-.94L8.5 2.5l-.94 2.06-2.06.94zm10 10l.94 2.06.94-2.06 2.06-.94-2.06-.94-.94-2.06-.94 2.06-2.06.94z\"/><path d=\"M17.41 7.96l-1.37-1.37c-.4-.4-.92-.59-1.43-.59-.52 0-1.04.2-1.43.59L10.3 9.45l-7.72 7.72c-.78.78-.78 2.05 0 2.83L4 21.41c.39.39.9.59 1.41.59.51 0 1.02-.2 1.41-.59l7.78-7.78 2.81-2.81c.8-.78.8-2.07 0-2.86zM5.41 20L4 18.59l7.72-7.72 1.47 1.35L5.41 20z\"/>\n",
              "  </svg>\n",
              "      </button>\n",
              "      \n",
              "  <style>\n",
              "    .colab-df-container {\n",
              "      display:flex;\n",
              "      flex-wrap:wrap;\n",
              "      gap: 12px;\n",
              "    }\n",
              "\n",
              "    .colab-df-convert {\n",
              "      background-color: #E8F0FE;\n",
              "      border: none;\n",
              "      border-radius: 50%;\n",
              "      cursor: pointer;\n",
              "      display: none;\n",
              "      fill: #1967D2;\n",
              "      height: 32px;\n",
              "      padding: 0 0 0 0;\n",
              "      width: 32px;\n",
              "    }\n",
              "\n",
              "    .colab-df-convert:hover {\n",
              "      background-color: #E2EBFA;\n",
              "      box-shadow: 0px 1px 2px rgba(60, 64, 67, 0.3), 0px 1px 3px 1px rgba(60, 64, 67, 0.15);\n",
              "      fill: #174EA6;\n",
              "    }\n",
              "\n",
              "    [theme=dark] .colab-df-convert {\n",
              "      background-color: #3B4455;\n",
              "      fill: #D2E3FC;\n",
              "    }\n",
              "\n",
              "    [theme=dark] .colab-df-convert:hover {\n",
              "      background-color: #434B5C;\n",
              "      box-shadow: 0px 1px 3px 1px rgba(0, 0, 0, 0.15);\n",
              "      filter: drop-shadow(0px 1px 2px rgba(0, 0, 0, 0.3));\n",
              "      fill: #FFFFFF;\n",
              "    }\n",
              "  </style>\n",
              "\n",
              "      <script>\n",
              "        const buttonEl =\n",
              "          document.querySelector('#df-008b8522-08fa-49a9-89ca-07e6e84dce41 button.colab-df-convert');\n",
              "        buttonEl.style.display =\n",
              "          google.colab.kernel.accessAllowed ? 'block' : 'none';\n",
              "\n",
              "        async function convertToInteractive(key) {\n",
              "          const element = document.querySelector('#df-008b8522-08fa-49a9-89ca-07e6e84dce41');\n",
              "          const dataTable =\n",
              "            await google.colab.kernel.invokeFunction('convertToInteractive',\n",
              "                                                     [key], {});\n",
              "          if (!dataTable) return;\n",
              "\n",
              "          const docLinkHtml = 'Like what you see? Visit the ' +\n",
              "            '<a target=\"_blank\" href=https://colab.research.google.com/notebooks/data_table.ipynb>data table notebook</a>'\n",
              "            + ' to learn more about interactive tables.';\n",
              "          element.innerHTML = '';\n",
              "          dataTable['output_type'] = 'display_data';\n",
              "          await google.colab.output.renderOutput(dataTable, element);\n",
              "          const docLink = document.createElement('div');\n",
              "          docLink.innerHTML = docLinkHtml;\n",
              "          element.appendChild(docLink);\n",
              "        }\n",
              "      </script>\n",
              "    </div>\n",
              "  </div>\n",
              "  "
            ]
          },
          "metadata": {},
          "execution_count": 9
        }
      ]
    },
    {
      "cell_type": "code",
      "source": [
        "data.isna().any()"
      ],
      "metadata": {
        "colab": {
          "base_uri": "https://localhost:8080/"
        },
        "id": "WSvFbYSM3UvN",
        "outputId": "17e291ff-496e-401b-d0fc-6e5968e46fe2"
      },
      "execution_count": null,
      "outputs": [
        {
          "output_type": "execute_result",
          "data": {
            "text/plain": [
              "ID          False\n",
              "question    False\n",
              "word        False\n",
              "pos         False\n",
              "tag         False\n",
              "word_idx    False\n",
              "tag_idx     False\n",
              "dtype: bool"
            ]
          },
          "metadata": {},
          "execution_count": 14
        }
      ]
    },
    {
      "cell_type": "markdown",
      "source": [
        "### Transform columns to extract sequential data"
      ],
      "metadata": {
        "id": "rHVvob-zsFm4"
      }
    },
    {
      "cell_type": "code",
      "source": [
        "#fill NaN in case they exist.\n",
        "#data_fillna = data.fillna(method='ffill', axis=0)\n",
        "\n",
        "#group data by question\n",
        "data_group = data.groupby(['question'],as_index=False\n",
        "                                )['word', 'pos', 'tag', 'word_idx', 'tag_idx'].agg(lambda x: list(x))\n",
        "data_group.head()"
      ],
      "metadata": {
        "colab": {
          "base_uri": "https://localhost:8080/",
          "height": 393
        },
        "id": "mjAfJorY3YZQ",
        "outputId": "2c695cf6-b43b-49f6-f8c8-da70c0f0ce18"
      },
      "execution_count": null,
      "outputs": [
        {
          "output_type": "stream",
          "name": "stderr",
          "text": [
            "/usr/local/lib/python3.7/dist-packages/ipykernel_launcher.py:3: FutureWarning: Indexing with multiple keys (implicitly converted to a tuple of keys) will be deprecated, use a list instead.\n",
            "  This is separate from the ipykernel package so we can avoid doing imports until\n"
          ]
        },
        {
          "output_type": "execute_result",
          "data": {
            "text/plain": [
              "                                            question  \\\n",
              "0  From where are wind farms visible in PlaceName0\\n   \n",
              "1  How many arson cases in PlaceName0 in February...   \n",
              "2  How many buildings are affected by hurricane i...   \n",
              "3  How many buildings are within 3 minutes of dri...   \n",
              "4  How many dwelling units are in flood zones in ...   \n",
              "\n",
              "                                                word  \\\n",
              "0  [From, where, are, wind, farms, visible, in, P...   \n",
              "1  [How, many, arson, cases, in, in, PlaceName0, ...   \n",
              "2  [How, many, buildings, are, affected, by, hurr...   \n",
              "3  [How, many, buildings, are, within, 3, minutes...   \n",
              "4  [How, many, dwelling, units, are, in, in, floo...   \n",
              "\n",
              "                                                 pos  \\\n",
              "0  [ADP, ADV, AUX, NOUN, NOUN, ADJ, ADP, PROPN, S...   \n",
              "1  [ADV, ADJ, NOUN, NOUN, ADP, ADP, PROPN, PROPN,...   \n",
              "2  [ADV, ADJ, NOUN, AUX, VERB, ADP, NOUN, ADP, PR...   \n",
              "3  [ADV, ADJ, NOUN, AUX, ADP, NUM, NOUN, ADP, VER...   \n",
              "4  [ADV, ADJ, NOUN, NOUN, AUX, ADP, ADP, NOUN, NO...   \n",
              "\n",
              "                                                 tag  \\\n",
              "0                [O, O, O, B-OBJ, I-OBJ, O, O, O, O]   \n",
              "1             [O, O, B-EVE, I-EVE, O, O, O, O, O, O]   \n",
              "2             [O, O, B-OBJ, O, O, O, B-EVE, O, O, O]   \n",
              "3  [O, O, B-OBJ, O, O, O, O, O, B-NETQR, I-NETQR,...   \n",
              "4  [O, O, B-OBJ, I-OBJ, O, O, O, B-FLDN, I-FLDN, ...   \n",
              "\n",
              "                                            word_idx  \\\n",
              "0        [305, 519, 488, 80, 182, 265, 429, 12, 407]   \n",
              "1  [141, 428, 260, 450, 429, 429, 12, 403, 181, 407]   \n",
              "2    [141, 428, 300, 488, 225, 5, 125, 429, 12, 407]   \n",
              "3  [141, 428, 300, 488, 65, 164, 372, 442, 83, 6,...   \n",
              "4  [141, 428, 133, 496, 488, 429, 429, 547, 287, ...   \n",
              "\n",
              "                                             tag_idx  \n",
              "0                      [3, 3, 3, 14, 13, 3, 3, 3, 3]  \n",
              "1                   [3, 3, 19, 26, 3, 3, 3, 3, 3, 3]  \n",
              "2                   [3, 3, 14, 3, 3, 3, 19, 3, 3, 3]  \n",
              "3  [3, 3, 14, 3, 3, 3, 3, 3, 11, 33, 3, 14, 13, 3...  \n",
              "4              [3, 3, 14, 13, 3, 3, 3, 20, 16, 3, 3]  "
            ],
            "text/html": [
              "\n",
              "  <div id=\"df-5871731c-a72b-4d39-a311-d243e837aa82\">\n",
              "    <div class=\"colab-df-container\">\n",
              "      <div>\n",
              "<style scoped>\n",
              "    .dataframe tbody tr th:only-of-type {\n",
              "        vertical-align: middle;\n",
              "    }\n",
              "\n",
              "    .dataframe tbody tr th {\n",
              "        vertical-align: top;\n",
              "    }\n",
              "\n",
              "    .dataframe thead th {\n",
              "        text-align: right;\n",
              "    }\n",
              "</style>\n",
              "<table border=\"1\" class=\"dataframe\">\n",
              "  <thead>\n",
              "    <tr style=\"text-align: right;\">\n",
              "      <th></th>\n",
              "      <th>question</th>\n",
              "      <th>word</th>\n",
              "      <th>pos</th>\n",
              "      <th>tag</th>\n",
              "      <th>word_idx</th>\n",
              "      <th>tag_idx</th>\n",
              "    </tr>\n",
              "  </thead>\n",
              "  <tbody>\n",
              "    <tr>\n",
              "      <th>0</th>\n",
              "      <td>From where are wind farms visible in PlaceName0\\n</td>\n",
              "      <td>[From, where, are, wind, farms, visible, in, P...</td>\n",
              "      <td>[ADP, ADV, AUX, NOUN, NOUN, ADJ, ADP, PROPN, S...</td>\n",
              "      <td>[O, O, O, B-OBJ, I-OBJ, O, O, O, O]</td>\n",
              "      <td>[305, 519, 488, 80, 182, 265, 429, 12, 407]</td>\n",
              "      <td>[3, 3, 3, 14, 13, 3, 3, 3, 3]</td>\n",
              "    </tr>\n",
              "    <tr>\n",
              "      <th>1</th>\n",
              "      <td>How many arson cases in PlaceName0 in February...</td>\n",
              "      <td>[How, many, arson, cases, in, in, PlaceName0, ...</td>\n",
              "      <td>[ADV, ADJ, NOUN, NOUN, ADP, ADP, PROPN, PROPN,...</td>\n",
              "      <td>[O, O, B-EVE, I-EVE, O, O, O, O, O, O]</td>\n",
              "      <td>[141, 428, 260, 450, 429, 429, 12, 403, 181, 407]</td>\n",
              "      <td>[3, 3, 19, 26, 3, 3, 3, 3, 3, 3]</td>\n",
              "    </tr>\n",
              "    <tr>\n",
              "      <th>2</th>\n",
              "      <td>How many buildings are affected by hurricane i...</td>\n",
              "      <td>[How, many, buildings, are, affected, by, hurr...</td>\n",
              "      <td>[ADV, ADJ, NOUN, AUX, VERB, ADP, NOUN, ADP, PR...</td>\n",
              "      <td>[O, O, B-OBJ, O, O, O, B-EVE, O, O, O]</td>\n",
              "      <td>[141, 428, 300, 488, 225, 5, 125, 429, 12, 407]</td>\n",
              "      <td>[3, 3, 14, 3, 3, 3, 19, 3, 3, 3]</td>\n",
              "    </tr>\n",
              "    <tr>\n",
              "      <th>3</th>\n",
              "      <td>How many buildings are within 3 minutes of dri...</td>\n",
              "      <td>[How, many, buildings, are, within, 3, minutes...</td>\n",
              "      <td>[ADV, ADJ, NOUN, AUX, ADP, NUM, NOUN, ADP, VER...</td>\n",
              "      <td>[O, O, B-OBJ, O, O, O, O, O, B-NETQR, I-NETQR,...</td>\n",
              "      <td>[141, 428, 300, 488, 65, 164, 372, 442, 83, 6,...</td>\n",
              "      <td>[3, 3, 14, 3, 3, 3, 3, 3, 11, 33, 3, 14, 13, 3...</td>\n",
              "    </tr>\n",
              "    <tr>\n",
              "      <th>4</th>\n",
              "      <td>How many dwelling units are in flood zones in ...</td>\n",
              "      <td>[How, many, dwelling, units, are, in, in, floo...</td>\n",
              "      <td>[ADV, ADJ, NOUN, NOUN, AUX, ADP, ADP, NOUN, NO...</td>\n",
              "      <td>[O, O, B-OBJ, I-OBJ, O, O, O, B-FLDN, I-FLDN, ...</td>\n",
              "      <td>[141, 428, 133, 496, 488, 429, 429, 547, 287, ...</td>\n",
              "      <td>[3, 3, 14, 13, 3, 3, 3, 20, 16, 3, 3]</td>\n",
              "    </tr>\n",
              "  </tbody>\n",
              "</table>\n",
              "</div>\n",
              "      <button class=\"colab-df-convert\" onclick=\"convertToInteractive('df-5871731c-a72b-4d39-a311-d243e837aa82')\"\n",
              "              title=\"Convert this dataframe to an interactive table.\"\n",
              "              style=\"display:none;\">\n",
              "        \n",
              "  <svg xmlns=\"http://www.w3.org/2000/svg\" height=\"24px\"viewBox=\"0 0 24 24\"\n",
              "       width=\"24px\">\n",
              "    <path d=\"M0 0h24v24H0V0z\" fill=\"none\"/>\n",
              "    <path d=\"M18.56 5.44l.94 2.06.94-2.06 2.06-.94-2.06-.94-.94-2.06-.94 2.06-2.06.94zm-11 1L8.5 8.5l.94-2.06 2.06-.94-2.06-.94L8.5 2.5l-.94 2.06-2.06.94zm10 10l.94 2.06.94-2.06 2.06-.94-2.06-.94-.94-2.06-.94 2.06-2.06.94z\"/><path d=\"M17.41 7.96l-1.37-1.37c-.4-.4-.92-.59-1.43-.59-.52 0-1.04.2-1.43.59L10.3 9.45l-7.72 7.72c-.78.78-.78 2.05 0 2.83L4 21.41c.39.39.9.59 1.41.59.51 0 1.02-.2 1.41-.59l7.78-7.78 2.81-2.81c.8-.78.8-2.07 0-2.86zM5.41 20L4 18.59l7.72-7.72 1.47 1.35L5.41 20z\"/>\n",
              "  </svg>\n",
              "      </button>\n",
              "      \n",
              "  <style>\n",
              "    .colab-df-container {\n",
              "      display:flex;\n",
              "      flex-wrap:wrap;\n",
              "      gap: 12px;\n",
              "    }\n",
              "\n",
              "    .colab-df-convert {\n",
              "      background-color: #E8F0FE;\n",
              "      border: none;\n",
              "      border-radius: 50%;\n",
              "      cursor: pointer;\n",
              "      display: none;\n",
              "      fill: #1967D2;\n",
              "      height: 32px;\n",
              "      padding: 0 0 0 0;\n",
              "      width: 32px;\n",
              "    }\n",
              "\n",
              "    .colab-df-convert:hover {\n",
              "      background-color: #E2EBFA;\n",
              "      box-shadow: 0px 1px 2px rgba(60, 64, 67, 0.3), 0px 1px 3px 1px rgba(60, 64, 67, 0.15);\n",
              "      fill: #174EA6;\n",
              "    }\n",
              "\n",
              "    [theme=dark] .colab-df-convert {\n",
              "      background-color: #3B4455;\n",
              "      fill: #D2E3FC;\n",
              "    }\n",
              "\n",
              "    [theme=dark] .colab-df-convert:hover {\n",
              "      background-color: #434B5C;\n",
              "      box-shadow: 0px 1px 3px 1px rgba(0, 0, 0, 0.15);\n",
              "      filter: drop-shadow(0px 1px 2px rgba(0, 0, 0, 0.3));\n",
              "      fill: #FFFFFF;\n",
              "    }\n",
              "  </style>\n",
              "\n",
              "      <script>\n",
              "        const buttonEl =\n",
              "          document.querySelector('#df-5871731c-a72b-4d39-a311-d243e837aa82 button.colab-df-convert');\n",
              "        buttonEl.style.display =\n",
              "          google.colab.kernel.accessAllowed ? 'block' : 'none';\n",
              "\n",
              "        async function convertToInteractive(key) {\n",
              "          const element = document.querySelector('#df-5871731c-a72b-4d39-a311-d243e837aa82');\n",
              "          const dataTable =\n",
              "            await google.colab.kernel.invokeFunction('convertToInteractive',\n",
              "                                                     [key], {});\n",
              "          if (!dataTable) return;\n",
              "\n",
              "          const docLinkHtml = 'Like what you see? Visit the ' +\n",
              "            '<a target=\"_blank\" href=https://colab.research.google.com/notebooks/data_table.ipynb>data table notebook</a>'\n",
              "            + ' to learn more about interactive tables.';\n",
              "          element.innerHTML = '';\n",
              "          dataTable['output_type'] = 'display_data';\n",
              "          await google.colab.output.renderOutput(dataTable, element);\n",
              "          const docLink = document.createElement('div');\n",
              "          docLink.innerHTML = docLinkHtml;\n",
              "          element.appendChild(docLink);\n",
              "        }\n",
              "      </script>\n",
              "    </div>\n",
              "  </div>\n",
              "  "
            ]
          },
          "metadata": {},
          "execution_count": 15
        }
      ]
    },
    {
      "cell_type": "markdown",
      "source": [
        "### Split the dataset into train and test set after padding"
      ],
      "metadata": {
        "id": "hjHcPBF0saYA"
      }
    },
    {
      "cell_type": "code",
      "source": [
        "from sklearn.model_selection import train_test_split\n",
        "from tensorflow.keras.preprocessing.sequence import pad_sequences\n",
        "from tensorflow.keras.utils import to_categorical"
      ],
      "metadata": {
        "id": "gz7O6YmN3zw8"
      },
      "execution_count": null,
      "outputs": []
    },
    {
      "cell_type": "code",
      "source": [
        "def get_pad_train_test_val(data_group, data):\n",
        "    n_token = len(list(set(data['word'].to_list())))\n",
        "    n_tag = len(list(set(data['tag'].to_list())))\n",
        "    \n",
        "    tokens = data_group['word_idx'].tolist()\n",
        "    maxlen = max([len(s) for s in tokens])\n",
        "    pad_tokens = pad_sequences(tokens, maxlen=maxlen, dtype='int32', padding='post', value= n_token - 1)\n",
        "\n",
        "\n",
        "    tags = data_group['tag_idx'].tolist()\n",
        "    pad_tags = pad_sequences(tags, maxlen=maxlen, dtype='int32', padding='post', value= tag2idx[\"O\"])\n",
        "    \n",
        "    n_tags = len(tag2idx)\n",
        "    pad_tags = [to_categorical(i, num_classes=n_tags) for i in pad_tags]\n",
        "    \n",
        "    \n",
        "    train_tokens, test_tokens, train_tags, test_tags = train_test_split(pad_tokens, pad_tags, test_size=0.1, train_size=0.9, random_state=2018)\n",
        "\n",
        "    print(\n",
        "        'train_tokens length:', len(train_tokens),\n",
        "        '\\ntest_tokens length:', len(test_tokens),\n",
        "        '\\ntrain_tags:', len(train_tags),\n",
        "        '\\ntest_tags:', len(test_tags)\n",
        "    )\n",
        "    \n",
        "    return train_tokens, test_tokens, train_tags, test_tags\n",
        "\n",
        "train_tokens, test_tokens, train_tags, test_tags = get_pad_train_test_val(data_group, data)"
      ],
      "metadata": {
        "colab": {
          "base_uri": "https://localhost:8080/"
        },
        "id": "sOZB-3b74VaD",
        "outputId": "619c1ace-2fcd-46b2-8f15-cf2a1ad5f156"
      },
      "execution_count": null,
      "outputs": [
        {
          "output_type": "stream",
          "name": "stdout",
          "text": [
            "train_tokens length: 285 \n",
            "test_tokens length: 32 \n",
            "train_tags: 285 \n",
            "test_tags: 32\n"
          ]
        }
      ]
    },
    {
      "cell_type": "code",
      "source": [
        "for token, tag in zip(train_tokens[0], train_tags[0]):\n",
        "    print('%s\\t%s' % (token, tag))"
      ],
      "metadata": {
        "colab": {
          "base_uri": "https://localhost:8080/"
        },
        "id": "hiXgGc294itK",
        "outputId": "3c4c2e23-c175-49f3-d400-dc668262fe69"
      },
      "execution_count": null,
      "outputs": [
        {
          "output_type": "stream",
          "name": "stdout",
          "text": [
            "326\t[0. 0. 0. 1. 0. 0. 0. 0. 0. 0. 0. 0. 0. 0. 0. 0. 0. 0. 0. 0. 0. 0. 0. 0.\n",
            " 0. 0. 0. 0. 0. 0. 0. 0. 0. 0. 0. 0. 0.]\n",
            "488\t[0. 0. 0. 1. 0. 0. 0. 0. 0. 0. 0. 0. 0. 0. 0. 0. 0. 0. 0. 0. 0. 0. 0. 0.\n",
            " 0. 0. 0. 0. 0. 0. 0. 0. 0. 0. 0. 0. 0.]\n",
            "294\t[0. 1. 0. 0. 0. 0. 0. 0. 0. 0. 0. 0. 0. 0. 0. 0. 0. 0. 0. 0. 0. 0. 0. 0.\n",
            " 0. 0. 0. 0. 0. 0. 0. 0. 0. 0. 0. 0. 0.]\n",
            "546\t[0. 0. 0. 0. 0. 0. 0. 0. 0. 0. 0. 0. 0. 0. 0. 0. 0. 0. 0. 0. 0. 0. 1. 0.\n",
            " 0. 0. 0. 0. 0. 0. 0. 0. 0. 0. 0. 0. 0.]\n",
            "169\t[0. 0. 0. 0. 0. 0. 0. 0. 0. 0. 0. 0. 0. 0. 0. 0. 0. 0. 0. 0. 0. 0. 1. 0.\n",
            " 0. 0. 0. 0. 0. 0. 0. 0. 0. 0. 0. 0. 0.]\n",
            "442\t[0. 0. 0. 1. 0. 0. 0. 0. 0. 0. 0. 0. 0. 0. 0. 0. 0. 0. 0. 0. 0. 0. 0. 0.\n",
            " 0. 0. 0. 0. 0. 0. 0. 0. 0. 0. 0. 0. 0.]\n",
            "47\t[0. 0. 0. 0. 0. 0. 0. 0. 0. 0. 0. 0. 0. 0. 1. 0. 0. 0. 0. 0. 0. 0. 0. 0.\n",
            " 0. 0. 0. 0. 0. 0. 0. 0. 0. 0. 0. 0. 0.]\n",
            "47\t[0. 0. 0. 0. 0. 0. 0. 0. 0. 0. 0. 0. 0. 0. 0. 0. 0. 0. 0. 1. 0. 0. 0. 0.\n",
            " 0. 0. 0. 0. 0. 0. 0. 0. 0. 0. 0. 0. 0.]\n",
            "47\t[0. 0. 0. 0. 0. 0. 0. 0. 0. 0. 0. 0. 0. 0. 1. 0. 0. 0. 0. 0. 0. 0. 0. 0.\n",
            " 0. 0. 0. 0. 0. 0. 0. 0. 0. 0. 0. 0. 0.]\n",
            "47\t[0. 0. 0. 0. 0. 0. 0. 0. 0. 0. 0. 0. 0. 0. 0. 0. 0. 0. 0. 1. 0. 0. 0. 0.\n",
            " 0. 0. 0. 0. 0. 0. 0. 0. 0. 0. 0. 0. 0.]\n",
            "39\t[0. 0. 0. 0. 0. 0. 0. 0. 0. 0. 0. 0. 0. 0. 0. 0. 0. 0. 0. 0. 0. 0. 0. 0.\n",
            " 0. 0. 1. 0. 0. 0. 0. 0. 0. 0. 0. 0. 0.]\n",
            "135\t[0. 0. 0. 1. 0. 0. 0. 0. 0. 0. 0. 0. 0. 0. 0. 0. 0. 0. 0. 0. 0. 0. 0. 0.\n",
            " 0. 0. 0. 0. 0. 0. 0. 0. 0. 0. 0. 0. 0.]\n",
            "5\t[0. 0. 0. 1. 0. 0. 0. 0. 0. 0. 0. 0. 0. 0. 0. 0. 0. 0. 0. 0. 0. 0. 0. 0.\n",
            " 0. 0. 0. 0. 0. 0. 0. 0. 0. 0. 0. 0. 0.]\n",
            "128\t[0. 0. 0. 0. 0. 0. 0. 0. 0. 0. 0. 0. 0. 0. 0. 0. 0. 0. 0. 0. 0. 0. 0. 1.\n",
            " 0. 0. 0. 0. 0. 0. 0. 0. 0. 0. 0. 0. 0.]\n",
            "205\t[0. 0. 0. 1. 0. 0. 0. 0. 0. 0. 0. 0. 0. 0. 0. 0. 0. 0. 0. 0. 0. 0. 0. 0.\n",
            " 0. 0. 0. 0. 0. 0. 0. 0. 0. 0. 0. 0. 0.]\n",
            "503\t[0. 0. 0. 1. 0. 0. 0. 0. 0. 0. 0. 0. 0. 0. 0. 0. 0. 0. 0. 0. 0. 0. 0. 0.\n",
            " 0. 0. 0. 0. 0. 0. 0. 0. 0. 0. 0. 0. 0.]\n",
            "217\t[0. 0. 0. 0. 0. 0. 0. 0. 0. 0. 0. 0. 0. 1. 0. 0. 0. 0. 0. 0. 0. 0. 0. 0.\n",
            " 0. 0. 0. 0. 0. 0. 0. 0. 0. 0. 0. 0. 0.]\n",
            "429\t[0. 0. 0. 1. 0. 0. 0. 0. 0. 0. 0. 0. 0. 0. 0. 0. 0. 0. 0. 0. 0. 0. 0. 0.\n",
            " 0. 0. 0. 0. 0. 0. 0. 0. 0. 0. 0. 0. 0.]\n",
            "12\t[0. 0. 0. 1. 0. 0. 0. 0. 0. 0. 0. 0. 0. 0. 0. 0. 0. 0. 0. 0. 0. 0. 0. 0.\n",
            " 0. 0. 0. 0. 0. 0. 0. 0. 0. 0. 0. 0. 0.]\n",
            "407\t[0. 0. 0. 1. 0. 0. 0. 0. 0. 0. 0. 0. 0. 0. 0. 0. 0. 0. 0. 0. 0. 0. 0. 0.\n",
            " 0. 0. 0. 0. 0. 0. 0. 0. 0. 0. 0. 0. 0.]\n",
            "551\t[0. 0. 0. 1. 0. 0. 0. 0. 0. 0. 0. 0. 0. 0. 0. 0. 0. 0. 0. 0. 0. 0. 0. 0.\n",
            " 0. 0. 0. 0. 0. 0. 0. 0. 0. 0. 0. 0. 0.]\n",
            "551\t[0. 0. 0. 1. 0. 0. 0. 0. 0. 0. 0. 0. 0. 0. 0. 0. 0. 0. 0. 0. 0. 0. 0. 0.\n",
            " 0. 0. 0. 0. 0. 0. 0. 0. 0. 0. 0. 0. 0.]\n",
            "551\t[0. 0. 0. 1. 0. 0. 0. 0. 0. 0. 0. 0. 0. 0. 0. 0. 0. 0. 0. 0. 0. 0. 0. 0.\n",
            " 0. 0. 0. 0. 0. 0. 0. 0. 0. 0. 0. 0. 0.]\n",
            "551\t[0. 0. 0. 1. 0. 0. 0. 0. 0. 0. 0. 0. 0. 0. 0. 0. 0. 0. 0. 0. 0. 0. 0. 0.\n",
            " 0. 0. 0. 0. 0. 0. 0. 0. 0. 0. 0. 0. 0.]\n",
            "551\t[0. 0. 0. 1. 0. 0. 0. 0. 0. 0. 0. 0. 0. 0. 0. 0. 0. 0. 0. 0. 0. 0. 0. 0.\n",
            " 0. 0. 0. 0. 0. 0. 0. 0. 0. 0. 0. 0. 0.]\n",
            "551\t[0. 0. 0. 1. 0. 0. 0. 0. 0. 0. 0. 0. 0. 0. 0. 0. 0. 0. 0. 0. 0. 0. 0. 0.\n",
            " 0. 0. 0. 0. 0. 0. 0. 0. 0. 0. 0. 0. 0.]\n",
            "551\t[0. 0. 0. 1. 0. 0. 0. 0. 0. 0. 0. 0. 0. 0. 0. 0. 0. 0. 0. 0. 0. 0. 0. 0.\n",
            " 0. 0. 0. 0. 0. 0. 0. 0. 0. 0. 0. 0. 0.]\n",
            "551\t[0. 0. 0. 1. 0. 0. 0. 0. 0. 0. 0. 0. 0. 0. 0. 0. 0. 0. 0. 0. 0. 0. 0. 0.\n",
            " 0. 0. 0. 0. 0. 0. 0. 0. 0. 0. 0. 0. 0.]\n",
            "551\t[0. 0. 0. 1. 0. 0. 0. 0. 0. 0. 0. 0. 0. 0. 0. 0. 0. 0. 0. 0. 0. 0. 0. 0.\n",
            " 0. 0. 0. 0. 0. 0. 0. 0. 0. 0. 0. 0. 0.]\n",
            "551\t[0. 0. 0. 1. 0. 0. 0. 0. 0. 0. 0. 0. 0. 0. 0. 0. 0. 0. 0. 0. 0. 0. 0. 0.\n",
            " 0. 0. 0. 0. 0. 0. 0. 0. 0. 0. 0. 0. 0.]\n"
          ]
        }
      ]
    },
    {
      "cell_type": "markdown",
      "source": [
        "### Build the Bi-LSTM model's architecture"
      ],
      "metadata": {
        "id": "kFB71Gf-siQA"
      }
    },
    {
      "cell_type": "code",
      "source": [
        "import numpy as np\n",
        "import tensorflow \n",
        "from tensorflow import keras\n",
        "from tensorflow.keras import Sequential, Model, Input\n",
        "from tensorflow.keras.layers import LSTM, Embedding, Dense, TimeDistributed, Dropout, Bidirectional\n",
        "from tensorflow.keras.utils import plot_model"
      ],
      "metadata": {
        "id": "RvoEeYs54oPs"
      },
      "execution_count": null,
      "outputs": []
    },
    {
      "cell_type": "code",
      "source": [
        "from numpy.random import seed\n",
        "seed(1)\n",
        "tensorflow.random.set_seed(2)"
      ],
      "metadata": {
        "id": "ZFZO1WFT4tJD"
      },
      "execution_count": null,
      "outputs": []
    },
    {
      "cell_type": "code",
      "source": [
        "input_dim = len(list(set(data['word'].to_list())))+1\n",
        "output_dim = 256\n",
        "input_length = max([len(s) for s in data_group['word_idx'].tolist()])\n",
        "n_tags = len(tag2idx)\n",
        "print('input_dim: ', input_dim, '\\noutput_dim: ', output_dim, '\\ninput_length: ', input_length, '\\nn_tags: ', n_tags)"
      ],
      "metadata": {
        "colab": {
          "base_uri": "https://localhost:8080/"
        },
        "id": "huRy-eyw4xqb",
        "outputId": "6b3f59d4-b667-4609-f503-7c3615c6ebac"
      },
      "execution_count": null,
      "outputs": [
        {
          "output_type": "stream",
          "name": "stdout",
          "text": [
            "input_dim:  553 \n",
            "output_dim:  256 \n",
            "input_length:  30 \n",
            "n_tags:  37\n"
          ]
        }
      ]
    },
    {
      "cell_type": "code",
      "source": [
        "n_tags = len(tag2idx)"
      ],
      "metadata": {
        "id": "-q1gteD70SgT"
      },
      "execution_count": null,
      "outputs": []
    },
    {
      "cell_type": "code",
      "source": [
        "n_tags"
      ],
      "metadata": {
        "colab": {
          "base_uri": "https://localhost:8080/"
        },
        "id": "Q__KN-Hw0VNL",
        "outputId": "ea1ed970-809b-4472-8ad5-fccb99590d1c"
      },
      "execution_count": null,
      "outputs": [
        {
          "output_type": "execute_result",
          "data": {
            "text/plain": [
              "37"
            ]
          },
          "metadata": {},
          "execution_count": 24
        }
      ]
    },
    {
      "cell_type": "markdown",
      "source": [
        "#Bi-LSTM model's architecture\n"
      ],
      "metadata": {
        "id": "TO4NnjntATKI"
      }
    },
    {
      "cell_type": "code",
      "source": [
        "    model = Sequential()\n",
        "\n",
        "    # Add Embedding layer\n",
        "    model.add(Embedding(input_dim=input_dim, output_dim=output_dim, input_length=input_length))\n",
        "\n",
        "    # Add bidirectional LSTM\n",
        "    model.add(Bidirectional(LSTM(units=output_dim, return_sequences=True, dropout=0.4, recurrent_dropout=0.0), merge_mode = 'concat'))\n",
        "    \n",
        "\n",
        "    # Add LSTM\n",
        "    model.add(LSTM(units=output_dim, return_sequences=True, dropout=0.4, recurrent_dropout=0.0))\n",
        "\n",
        "    # Add timeDistributed Layer\n",
        "    model.add(TimeDistributed(Dense(n_tags, activation=\"softmax\")))\n",
        "\n",
        "    # Compile model\n",
        "    model.compile(optimizer=keras.optimizers.Adam(learning_rate=1e-3),\n",
        "                  loss='categorical_crossentropy', metrics=['accuracy'])\n",
        "    model.summary()\n",
        "    "
      ],
      "metadata": {
        "colab": {
          "base_uri": "https://localhost:8080/"
        },
        "id": "mFW5mKFtAVd3",
        "outputId": "ffdb12e7-8381-4e57-8f31-0f5d63926731"
      },
      "execution_count": null,
      "outputs": [
        {
          "output_type": "stream",
          "name": "stdout",
          "text": [
            "Model: \"sequential\"\n",
            "_________________________________________________________________\n",
            " Layer (type)                Output Shape              Param #   \n",
            "=================================================================\n",
            " embedding (Embedding)       (None, 30, 256)           141568    \n",
            "                                                                 \n",
            " bidirectional (Bidirectiona  (None, 30, 512)          1050624   \n",
            " l)                                                              \n",
            "                                                                 \n",
            " lstm_1 (LSTM)               (None, 30, 256)           787456    \n",
            "                                                                 \n",
            " time_distributed (TimeDistr  (None, 30, 37)           9509      \n",
            " ibuted)                                                         \n",
            "                                                                 \n",
            "=================================================================\n",
            "Total params: 1,989,157\n",
            "Trainable params: 1,989,157\n",
            "Non-trainable params: 0\n",
            "_________________________________________________________________\n"
          ]
        }
      ]
    },
    {
      "cell_type": "code",
      "source": [
        "# plot model architecture\n",
        "from tensorflow.keras.utils import plot_model\n",
        "plot_model(model,'model_dimensions.png', show_shapes= True, show_layer_names=True)"
      ],
      "metadata": {
        "colab": {
          "base_uri": "https://localhost:8080/",
          "height": 533
        },
        "id": "gtIu3elap_7D",
        "outputId": "cba02fc5-857d-465a-c210-22f2fcca7574"
      },
      "execution_count": null,
      "outputs": [
        {
          "output_type": "execute_result",
          "data": {
            "text/plain": [
              "<IPython.core.display.Image object>"
            ],
            "image/png": "[encoded data removed]"
          },
          "metadata": {},
          "execution_count": 32
        }
      ]
    },
    {
      "cell_type": "markdown",
      "source": [
        "### Fit the model"
      ],
      "metadata": {
        "id": "d_9oKYp3s-jR"
      }
    },
    {
      "cell_type": "code",
      "source": [
        "history= model.fit(train_tokens, np.array(train_tags), batch_size=2, epochs=4, validation_split=0.1)"
      ],
      "metadata": {
        "colab": {
          "base_uri": "https://localhost:8080/"
        },
        "id": "dez5lrC_A8Y-",
        "outputId": "b39733ba-9602-485b-a432-aa471d6fd04b"
      },
      "execution_count": null,
      "outputs": [
        {
          "output_type": "stream",
          "name": "stdout",
          "text": [
            "Epoch 1/4\n",
            "128/128 [==============================] - 11s 19ms/step - loss: 0.7044 - accuracy: 0.8699 - val_loss: 0.4513 - val_accuracy: 0.8954\n",
            "Epoch 2/4\n",
            "128/128 [==============================] - 1s 10ms/step - loss: 0.4351 - accuracy: 0.8867 - val_loss: 0.2917 - val_accuracy: 0.9230\n",
            "Epoch 3/4\n",
            "128/128 [==============================] - 1s 10ms/step - loss: 0.2999 - accuracy: 0.9219 - val_loss: 0.2474 - val_accuracy: 0.9310\n",
            "Epoch 4/4\n",
            "128/128 [==============================] - 1s 10ms/step - loss: 0.2355 - accuracy: 0.9342 - val_loss: 0.2280 - val_accuracy: 0.9391\n"
          ]
        }
      ]
    },
    {
      "cell_type": "markdown",
      "source": [
        "### Plot training and validation loss of the model for each epoch"
      ],
      "metadata": {
        "id": "-acpFGq4tTDZ"
      }
    },
    {
      "cell_type": "code",
      "source": [
        "import seaborn as sns\n",
        "# Use plot styling from seaborn.\n",
        "sns.set(style='darkgrid')"
      ],
      "metadata": {
        "id": "9OeEq4YpZ0M1"
      },
      "execution_count": null,
      "outputs": []
    },
    {
      "cell_type": "code",
      "source": [
        "from matplotlib import pyplot as plt\n",
        "\n",
        "sns.set(font_scale=1.5)\n",
        "plt.rcParams[\"figure.figsize\"] = (12,6)\n",
        "\n",
        "plt.plot(history.history['loss'], 'b-o')\n",
        "plt.plot(history.history['val_loss'], 'r-o')\n",
        "plt.title('Learning curve')\n",
        "plt.ylabel('Loss')\n",
        "plt.xlabel('Epoch')\n",
        "plt.legend(['training loss', 'validation loss'], loc='upper right')\n",
        "plt.show()"
      ],
      "metadata": {
        "id": "YqOSCbpbBqLE",
        "colab": {
          "base_uri": "https://localhost:8080/",
          "height": 427
        },
        "outputId": "b25a5640-0f18-437d-bc02-3ab318ba3b55"
      },
      "execution_count": null,
      "outputs": [
        {
          "output_type": "display_data",
          "data": {
            "text/plain": [
              "<Figure size 864x432 with 1 Axes>"
            ],
            "image/png": "[encoded data removed]"
          },
          "metadata": {}
        }
      ]
    },
    {
      "cell_type": "markdown",
      "source": [
        "----------------------------------"
      ],
      "metadata": {
        "id": "T6ZiSwddc-BH"
      }
    },
    {
      "cell_type": "markdown",
      "source": [
        "### Bi-LSTM Evaluation Metrics"
      ],
      "metadata": {
        "id": "cD9_RYd5qn_s"
      }
    },
    {
      "cell_type": "code",
      "source": [
        "y_pred = model.predict(test_tokens)\n",
        "y_pred = np.argmax(y_pred, axis=-1)\n",
        "y_test_true = np.argmax(test_tags, -1)"
      ],
      "metadata": {
        "id": "xZiUWkeN7FgV"
      },
      "execution_count": null,
      "outputs": []
    },
    {
      "cell_type": "code",
      "source": [
        "y_pred = [[idx2tag[i] for i in row] for row in y_pred]\n",
        "y_test_true = [[idx2tag[i] for i in row] for row in y_test_true] "
      ],
      "metadata": {
        "id": "Bwje3Yhc7NCc"
      },
      "execution_count": null,
      "outputs": []
    },
    {
      "cell_type": "code",
      "source": [
        "!pip install seqeval"
      ],
      "metadata": {
        "colab": {
          "base_uri": "https://localhost:8080/"
        },
        "id": "3jpHaKG67X44",
        "outputId": "992878b3-94f0-43d3-f942-fbcdc11f4f16"
      },
      "execution_count": null,
      "outputs": [
        {
          "output_type": "stream",
          "name": "stdout",
          "text": [
            "Looking in indexes: https://pypi.org/simple, https://us-python.pkg.dev/colab-wheels/public/simple/\n",
            "Collecting seqeval\n",
            "  Downloading seqeval-1.2.2.tar.gz (43 kB)\n",
            "\u001b[K     |████████████████████████████████| 43 kB 2.5 MB/s \n",
            "\u001b[?25hRequirement already satisfied: numpy>=1.14.0 in /usr/local/lib/python3.7/dist-packages (from seqeval) (1.21.6)\n",
            "Requirement already satisfied: scikit-learn>=0.21.3 in /usr/local/lib/python3.7/dist-packages (from seqeval) (1.0.2)\n",
            "Requirement already satisfied: joblib>=0.11 in /usr/local/lib/python3.7/dist-packages (from scikit-learn>=0.21.3->seqeval) (1.1.0)\n",
            "Requirement already satisfied: scipy>=1.1.0 in /usr/local/lib/python3.7/dist-packages (from scikit-learn>=0.21.3->seqeval) (1.4.1)\n",
            "Requirement already satisfied: threadpoolctl>=2.0.0 in /usr/local/lib/python3.7/dist-packages (from scikit-learn>=0.21.3->seqeval) (3.1.0)\n",
            "Building wheels for collected packages: seqeval\n",
            "  Building wheel for seqeval (setup.py) ... \u001b[?25l\u001b[?25hdone\n",
            "  Created wheel for seqeval: filename=seqeval-1.2.2-py3-none-any.whl size=16180 sha256=0b52e3a6aed07acfcc596f00665fefc600333a0200e8cf5d44799b588cdc9793\n",
            "  Stored in directory: /root/.cache/pip/wheels/05/96/ee/7cac4e74f3b19e3158dce26a20a1c86b3533c43ec72a549fd7\n",
            "Successfully built seqeval\n",
            "Installing collected packages: seqeval\n",
            "Successfully installed seqeval-1.2.2\n"
          ]
        }
      ]
    },
    {
      "cell_type": "code",
      "source": [
        "flat_list = [x for xs in y_test_true for x in xs]"
      ],
      "metadata": {
        "id": "kjMKYOTr2BK4"
      },
      "execution_count": null,
      "outputs": []
    },
    {
      "cell_type": "code",
      "source": [
        "# number of total entinties per tag in the validation/test set\n",
        "from collections import Counter\n",
        "c = Counter(flat_list)\n",
        "\n",
        "print( c.items() )"
      ],
      "metadata": {
        "colab": {
          "base_uri": "https://localhost:8080/"
        },
        "id": "-ZqpyhWIpQJ0",
        "outputId": "dd599a28-778a-4870-ff4d-81b3dceefc00"
      },
      "execution_count": null,
      "outputs": [
        {
          "output_type": "stream",
          "name": "stdout",
          "text": [
            "dict_items([('O', 837), ('B-FLDN', 7), ('I-FLDN', 9), ('B-OBJ', 37), ('B-FLDR', 5), ('I-FLDR', 2), ('I-OBJ', 15), ('B-PROPIR', 5), ('I-PROPIR', 4), ('B-OBJQB', 1), ('I-OBJQB', 1), ('B-CNAC', 4), ('B-EVE', 6), ('B-NETQR', 5), ('I-NETQR', 5), ('B-CVAL', 3), ('I-CVAL', 7), ('I-EVE', 2), ('B-FLDI', 1), ('I-CNAC', 1), ('B-OBJQR', 1), ('B-NET', 1), ('I-NET', 1)])\n"
          ]
        }
      ]
    },
    {
      "cell_type": "code",
      "source": [
        "from seqeval.metrics import precision_score, recall_score, f1_score, classification_report"
      ],
      "metadata": {
        "id": "2r7rJj4Y7fKE"
      },
      "execution_count": null,
      "outputs": []
    },
    {
      "cell_type": "code",
      "source": [
        "print(\"F1-score is : {:.1%}\".format(f1_score(y_test_true, y_pred)))"
      ],
      "metadata": {
        "colab": {
          "base_uri": "https://localhost:8080/"
        },
        "id": "BTngpmMK7QCM",
        "outputId": "e32ad413-4326-4e54-c4f5-561c26af6d84"
      },
      "execution_count": null,
      "outputs": [
        {
          "output_type": "stream",
          "name": "stdout",
          "text": [
            "F1-score is : 43.5%\n"
          ]
        }
      ]
    },
    {
      "cell_type": "code",
      "source": [
        "print(\"Recall is : {:.1%}\".format(recall_score(y_test_true, y_pred)))"
      ],
      "metadata": {
        "id": "YuL4ww1i_Mv8",
        "colab": {
          "base_uri": "https://localhost:8080/"
        },
        "outputId": "1ba3d861-fd1e-4154-9113-4d19a9a6fd80"
      },
      "execution_count": null,
      "outputs": [
        {
          "output_type": "stream",
          "name": "stdout",
          "text": [
            "Recall is : 46.2%\n"
          ]
        }
      ]
    },
    {
      "cell_type": "code",
      "source": [
        "print(\"Precision is : {:.1%}\".format(precision_score(y_test_true, y_pred)))"
      ],
      "metadata": {
        "id": "l-QOnwAn_VRP",
        "colab": {
          "base_uri": "https://localhost:8080/"
        },
        "outputId": "c00e8242-9b96-4444-f4b5-f41258a66dce"
      },
      "execution_count": null,
      "outputs": [
        {
          "output_type": "stream",
          "name": "stdout",
          "text": [
            "Precision is : 41.1%\n"
          ]
        }
      ]
    },
    {
      "cell_type": "code",
      "source": [
        "report = classification_report(y_pred,y_test_true)\n",
        "print(report)"
      ],
      "metadata": {
        "colab": {
          "base_uri": "https://localhost:8080/"
        },
        "id": "XP0VZpio7hXW",
        "outputId": "06524cd2-f71f-479a-ca56-8da8ce3fe17b"
      },
      "execution_count": null,
      "outputs": [
        {
          "output_type": "stream",
          "name": "stdout",
          "text": [
            "              precision    recall  f1-score   support\n",
            "\n",
            "        CNAC       0.00      0.00      0.00         0\n",
            "        CVAL       0.67      0.25      0.36         8\n",
            "         EVE       0.43      0.43      0.43         7\n",
            "        FLDI       0.00      0.00      0.00         0\n",
            "        FLDN       0.11      0.09      0.10        11\n",
            "        FLDR       0.00      0.00      0.00         7\n",
            "         NET       0.00      0.00      0.00         0\n",
            "       NETQR       0.00      0.00      0.00         0\n",
            "         OBJ       0.79      0.64      0.71        47\n",
            "       OBJQB       0.00      0.00      0.00         0\n",
            "       OBJQR       0.00      0.00      0.00         0\n",
            "      PROPIR       0.20      0.10      0.13        10\n",
            "\n",
            "   micro avg       0.46      0.41      0.44        90\n",
            "   macro avg       0.18      0.13      0.14        90\n",
            "weighted avg       0.54      0.41      0.46        90\n",
            "\n"
          ]
        },
        {
          "output_type": "stream",
          "name": "stderr",
          "text": [
            "/usr/local/lib/python3.7/dist-packages/seqeval/metrics/v1.py:57: UndefinedMetricWarning: Recall and F-score are ill-defined and being set to 0.0 in labels with no true samples. Use `zero_division` parameter to control this behavior.\n",
            "  _warn_prf(average, modifier, msg_start, len(result))\n"
          ]
        }
      ]
    },
    {
      "cell_type": "markdown",
      "source": [
        "### Test on random question from validation set "
      ],
      "metadata": {
        "id": "lD0S-5Kwn4iI"
      }
    },
    {
      "cell_type": "code",
      "source": [
        "# words = list(data['word'].unique())\n",
        "# tags = list(data['tag'].unique())\n",
        "# num_words = len(words)"
      ],
      "metadata": {
        "id": "2hbs5hRE78Nc"
      },
      "execution_count": null,
      "outputs": []
    },
    {
      "cell_type": "code",
      "source": [
        "# word2idx = {w: i+1 for i, w in enumerate(words)}\n",
        "# tag2idx = {t: i for i, t in enumerate(tags)}"
      ],
      "metadata": {
        "id": "9etK6mQR8Mak"
      },
      "execution_count": null,
      "outputs": []
    },
    {
      "cell_type": "code",
      "source": [
        "# i = 2\n",
        "# p = model.predict(np.array([test_tokens[i]]))\n",
        "# p = np.argmax(p, axis=-1)\n",
        "# print(\"{:14} ({:5}): {}\".format(\"Word\", \"True\", \"Pred\"))\n",
        "# for w,pred in zip(test_tokens[i],p[0]):\n",
        "#     print(\"{:14}: {}\".format(words[w],tags[pred]))"
      ],
      "metadata": {
        "id": "M9wNvM3uHtox"
      },
      "execution_count": null,
      "outputs": []
    },
    {
      "cell_type": "markdown",
      "source": [
        "### Bi-LSTM Hyperparameter tunning"
      ],
      "metadata": {
        "id": "rX_JLOjFJZFY"
      }
    },
    {
      "cell_type": "code",
      "source": [
        "# !pip install -q -U keras-tuner\n",
        "# import keras_tuner as kt"
      ],
      "metadata": {
        "id": "ZxNY6IZiJnKo"
      },
      "execution_count": null,
      "outputs": []
    },
    {
      "cell_type": "code",
      "source": [
        "# from keras_tuner.tuners import BayesianOptimization\n",
        "# import os\n",
        "# from tensorflow import keras\n",
        "# from tensorflow.keras import layers\n",
        "# from hyperopt import hp"
      ],
      "metadata": {
        "id": "f0idiAMSJ7tD"
      },
      "execution_count": null,
      "outputs": []
    },
    {
      "cell_type": "code",
      "source": [
        "# def get_bilstm_lstm_model(hp):\n",
        "#     model = Sequential()\n",
        "\n",
        "#     dropout= hp.Choice('dropout', [0.0, 0.1, 0.2, 0.4], default=0.1)\n",
        "#     rec_dropout = hp.Choice('rec_dropout', [0.0, 0.1, 0.2, 0.4, 0.5], default=0.1)\n",
        "\n",
        "#     # Add Embedding layer\n",
        "#     model.add(Embedding(input_dim=input_dim, output_dim=output_dim, input_length=input_length))\n",
        "\n",
        "#     hp_units = hp.Int('units', min_value=32, max_value=512, step=32)\n",
        "#     # Add bidirectional LSTM\n",
        "#     model.add(Bidirectional(LSTM(units=hp_units, return_sequences=True, dropout=dropout, recurrent_dropout=rec_dropout), merge_mode = 'concat'))\n",
        "\n",
        "#     # Add LSTM\n",
        "#     model.add(LSTM(units=hp_units, return_sequences=True, dropout=dropout, recurrent_dropout=rec_dropout))\n",
        "\n",
        "#     # Add timeDistributed Layer\n",
        "#     model.add(TimeDistributed(Dense(n_tags, activation=hp.Choice('activation', ['relu','softmax'], default='softmax'))))\n",
        "\n",
        "#     # Compile model\n",
        "#     model.compile(optimizer=keras.optimizers.Adam(learning_rate=hp.Choice('learning_rate', values=[1e-2, 1e-3, 1e-4])),\n",
        "#                   loss='categorical_crossentropy', metrics=['accuracy'])\n",
        "#     model.summary()\n",
        "    \n",
        "#     return model"
      ],
      "metadata": {
        "id": "Tr62BZ6BJ9-f"
      },
      "execution_count": null,
      "outputs": []
    },
    {
      "cell_type": "code",
      "source": [
        "# tuner = BayesianOptimization(\n",
        "#     get_bilstm_lstm_model,\n",
        "#     objective='val_loss',\n",
        "#     max_trials=10,\n",
        "#     executions_per_trial=1,\n",
        "#     directory=os.path.join(os.getcwd(),'drive','MyDrive', 'UTRECHT UNIVERISTY', 'THESIS'),\n",
        "#     project_name='kerastuner_bayesian_poc_lstm_alltuning_22',\n",
        "#     overwrite=False)"
      ],
      "metadata": {
        "id": "IF3d1rirNJIr"
      },
      "execution_count": null,
      "outputs": []
    },
    {
      "cell_type": "code",
      "source": [
        "# tuner.search_space_summary()"
      ],
      "metadata": {
        "id": "dtcBE_9jNUL2"
      },
      "execution_count": null,
      "outputs": []
    },
    {
      "cell_type": "code",
      "source": [
        "# import tensorflow as tf\n",
        "# tuner.search(train_tokens, np.array(train_tags), epochs=20, validation_data=(test_tokens, np.array(test_tags)),\n",
        "#              callbacks=[tf.keras.callbacks.EarlyStopping(monitor='val_loss', patience=3)])"
      ],
      "metadata": {
        "id": "SYEjjzb0NXQL"
      },
      "execution_count": null,
      "outputs": []
    },
    {
      "cell_type": "code",
      "source": [
        "# tuner.results_summary()"
      ],
      "metadata": {
        "id": "daIqRRRPSM-N"
      },
      "execution_count": null,
      "outputs": []
    },
    {
      "cell_type": "code",
      "source": [
        "# best_model = tuner.get_best_models()"
      ],
      "metadata": {
        "id": "KTigiibVSO68"
      },
      "execution_count": null,
      "outputs": []
    },
    {
      "cell_type": "code",
      "source": [
        "# best_hyperparameters = tuner.get_best_hyperparameters()[0]"
      ],
      "metadata": {
        "id": "Gi6Jz4h3STfo"
      },
      "execution_count": null,
      "outputs": []
    },
    {
      "cell_type": "code",
      "source": [
        "# best_hyperparameters.get_config()['values']"
      ],
      "metadata": {
        "id": "YORPMjvnSXgc"
      },
      "execution_count": null,
      "outputs": []
    },
    {
      "cell_type": "code",
      "source": [
        "# tuned_model = tuner.hypermodel.build(best_hyperparameters)\n",
        "# tuned_model.summary()"
      ],
      "metadata": {
        "id": "q1SEcn2EScFD"
      },
      "execution_count": null,
      "outputs": []
    },
    {
      "cell_type": "code",
      "source": [
        "# history= tuned_model.fit(train_tokens, np.array(train_tags), batch_size=2, epochs=4, validation_split=0.1)"
      ],
      "metadata": {
        "id": "dn8aTrSrkO_g"
      },
      "execution_count": null,
      "outputs": []
    },
    {
      "cell_type": "code",
      "source": [
        "# _, acc = tuned_model.evaluate(test_tokens, np.array(test_tags))\n",
        "# print('Accuracy: %.3f' % (acc *100))"
      ],
      "metadata": {
        "id": "8aFwb5EXoMys"
      },
      "execution_count": null,
      "outputs": []
    },
    {
      "cell_type": "code",
      "source": [
        "# plt.plot(history.history['loss'])\n",
        "# plt.plot(history.history['val_loss'])\n",
        "# plt.title('model loss')\n",
        "# plt.ylabel('loss')\n",
        "# plt.xlabel('epoch')\n",
        "# plt.legend(['train', 'val'], loc='upper left')\n",
        "# plt.show()"
      ],
      "metadata": {
        "id": "MmFYD8g2pQFc"
      },
      "execution_count": null,
      "outputs": []
    },
    {
      "cell_type": "markdown",
      "source": [
        "###--------------------------------------------------------"
      ],
      "metadata": {
        "id": "3aDXjX4uJoMw"
      }
    }
  ]
}